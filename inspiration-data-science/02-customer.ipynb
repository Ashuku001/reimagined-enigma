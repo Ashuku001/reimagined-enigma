{
 "cells": [
  {
   "cell_type": "code",
   "execution_count": 2,
   "metadata": {},
   "outputs": [],
   "source": [
    "import pandas as pd\n",
    "import numpy as np\n",
    "import seaborn as sns\n",
    "import matplotlib.pyplot as plt\n",
    "import matplotlib.style\n",
    "\n",
    "# from mlxtend.frequent_patterns import apriori,association_rules\n",
    "from collections import Counter\n",
    "from IPython.display import Image"
   ]
  },
  {
   "cell_type": "code",
   "execution_count": 3,
   "metadata": {},
   "outputs": [],
   "source": [
    "customers = pd.read_excel(\"Data/Rec_sys_data.xlsx\", sheet_name=\"customer\")\n",
    "# customers = customers.dropna()"
   ]
  },
  {
   "cell_type": "code",
   "execution_count": 4,
   "metadata": {},
   "outputs": [
    {
     "data": {
      "text/plain": [
       "(4372, 6)"
      ]
     },
     "execution_count": 4,
     "metadata": {},
     "output_type": "execute_result"
    }
   ],
   "source": [
    "customers.shape"
   ]
  },
  {
   "cell_type": "code",
   "execution_count": 5,
   "metadata": {},
   "outputs": [
    {
     "data": {
      "text/plain": [
       "Index(['CustomerID', 'Gender', 'Age', 'Income', 'Zipcode', 'Customer Segment'], dtype='object')"
      ]
     },
     "execution_count": 5,
     "metadata": {},
     "output_type": "execute_result"
    }
   ],
   "source": [
    "customers.columns"
   ]
  },
  {
   "cell_type": "code",
   "execution_count": 6,
   "metadata": {},
   "outputs": [],
   "source": [
    "new_customers = [{\n",
    "        \"id\": int(row[\"CustomerID\"]),\n",
    "        \"gender\": row[\"Gender\"].lower(),\n",
    "        \"income\": row[\"Income\"].lower(),\n",
    "        \"age\": row[\"Age\"],\n",
    "        \"merchantId\": 2,\n",
    "        \"loc_address\": str(row[\"Zipcode\"]),\n",
    "        \"customerSegment\": row[\"Customer Segment\"].lower(),\n",
    "        \"createdAt\": \"DATE\",\n",
    "        \"updatedAt\": \"DATE\"\n",
    "    } for index, row in customers.iterrows()]"
   ]
  },
  {
   "cell_type": "code",
   "execution_count": 9,
   "metadata": {},
   "outputs": [
    {
     "data": {
      "text/plain": [
       "4372"
      ]
     },
     "execution_count": 9,
     "metadata": {},
     "output_type": "execute_result"
    }
   ],
   "source": [
    "len(new_customers)"
   ]
  },
  {
   "cell_type": "code",
   "execution_count": 8,
   "metadata": {},
   "outputs": [],
   "source": [
    "with open('customers.txt', 'w') as file:\n",
    "    for dictionary in new_customers:\n",
    "        # Write the dictionary as a string\n",
    "        file.write(str(dictionary) + ',\\n')"
   ]
  },
  {
   "cell_type": "code",
   "execution_count": null,
   "metadata": {},
   "outputs": [],
   "source": [
    "import ast\n",
    "\n",
    "def read_and_parse_file(file_path):\n",
    "    with open(file_path, 'r') as file:\n",
    "        content = file.read().strip()\n",
    "\n",
    "    # Remove the trailing comma and newline if present\n",
    "    if content.endswith(','):\n",
    "        content = content[:-1]\n",
    "\n",
    "    # Split the content by '},\\n' to separate each dictionary\n",
    "    raw_items = content.split('},\\n')\n",
    "\n",
    "    items = []\n",
    "    for raw_item in raw_items:\n",
    "        # Add back the removed '}' (except for the last item)\n",
    "        if not raw_item.endswith('}'):\n",
    "            raw_item = raw_item + '}'\n",
    "        # Use ast.literal_eval to safely evaluate the string to a dictionary\n",
    "        item = ast.literal_eval(raw_item.strip())\n",
    "        items.append(item)\n",
    "    \n",
    "    return items"
   ]
  },
  {
   "cell_type": "code",
   "execution_count": null,
   "metadata": {},
   "outputs": [],
   "source": [
    "customers = read_and_parse_file(\"customers.txt\")"
   ]
  },
  {
   "cell_type": "code",
   "execution_count": null,
   "metadata": {},
   "outputs": [],
   "source": [
    "ids = [item[\"id\"] for item in customers]"
   ]
  },
  {
   "cell_type": "code",
   "execution_count": null,
   "metadata": {},
   "outputs": [],
   "source": [
    "with open (\"customerIds.txt\", \"w\") as file:\n",
    "    for id in ids:\n",
    "        file.write(str(id) + \",\")"
   ]
  }
 ],
 "metadata": {
  "kernelspec": {
   "display_name": "Python 3",
   "language": "python",
   "name": "python3"
  },
  "language_info": {
   "codemirror_mode": {
    "name": "ipython",
    "version": 3
   },
   "file_extension": ".py",
   "mimetype": "text/x-python",
   "name": "python",
   "nbconvert_exporter": "python",
   "pygments_lexer": "ipython3",
   "version": "3.12.3"
  }
 },
 "nbformat": 4,
 "nbformat_minor": 2
}
